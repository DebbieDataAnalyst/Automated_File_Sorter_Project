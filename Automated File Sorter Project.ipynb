{
 "cells": [
  {
   "cell_type": "markdown",
   "id": "e57a2602-bc56-4a91-a771-26c13ce47ebc",
   "metadata": {},
   "source": [
    "# Automatic File Sorter in Explorer"
   ]
  },
  {
   "cell_type": "code",
   "execution_count": 2,
   "id": "11e56027-94c6-4986-b637-36b695541d39",
   "metadata": {},
   "outputs": [],
   "source": [
    "import os, shutil"
   ]
  },
  {
   "cell_type": "code",
   "execution_count": 3,
   "id": "7cd32c1e-ac58-47d3-92e0-e0e4f8d70aba",
   "metadata": {},
   "outputs": [],
   "source": [
    "path = r\"C:/Users/edebo/OneDrive/Documents/File sorter project files/\""
   ]
  },
  {
   "cell_type": "code",
   "execution_count": 4,
   "id": "a4a4c6b1-9a0b-487d-a493-e94a4f99287f",
   "metadata": {},
   "outputs": [],
   "source": [
    "file_name = os.listdir(path)"
   ]
  },
  {
   "cell_type": "code",
   "execution_count": 5,
   "id": "81d1c274-849f-4677-ba22-defe6a4a7f08",
   "metadata": {},
   "outputs": [
    {
     "name": "stdout",
     "output_type": "stream",
     "text": [
      "C:/Users/edebo/OneDrive/Documents/File sorter project files/csv files\n",
      "C:/Users/edebo/OneDrive/Documents/File sorter project files/image files\n",
      "C:/Users/edebo/OneDrive/Documents/File sorter project files/text files\n"
     ]
    }
   ],
   "source": [
    "folder_names = ['csv files', 'image files', 'text files']\n",
    "\n",
    "for loop in range(0,3):\n",
    "    if not os.path.exists(path + folder_names[loop]):\n",
    "        print(path + folder_names[loop])\n",
    "        os.makedirs((path + folder_names[loop]))\n",
    "\n",
    "for file in file_name:\n",
    "    if \".csv\" in file and not os.path.exists(path + \"csv files/\" + file):\n",
    "        shutil.move(path + file, path + \"csv files/\" + file)\n",
    "    elif \".jpg\" in file and not os.path.exists(path + \"image files/\" + file):\n",
    "        shutil.move(path + file, path + \"image files/\" + file)\n",
    "    elif \".txt\" in file and not os.path.exists(path + \"text files/\" + file):\n",
    "        shutil.move(path + file, path + \"text files/\" + file)"
   ]
  },
  {
   "cell_type": "code",
   "execution_count": null,
   "id": "dcea10a6-d734-466e-a484-9ae4f0d7b3ac",
   "metadata": {},
   "outputs": [],
   "source": []
  }
 ],
 "metadata": {
  "kernelspec": {
   "display_name": "Python 3 (ipykernel)",
   "language": "python",
   "name": "python3"
  },
  "language_info": {
   "codemirror_mode": {
    "name": "ipython",
    "version": 3
   },
   "file_extension": ".py",
   "mimetype": "text/x-python",
   "name": "python",
   "nbconvert_exporter": "python",
   "pygments_lexer": "ipython3",
   "version": "3.12.4"
  }
 },
 "nbformat": 4,
 "nbformat_minor": 5
}
